{
 "cells": [
  {
   "cell_type": "code",
   "execution_count": 7,
   "id": "b92514fc-644d-41d2-8c60-ab52ddde4cb2",
   "metadata": {},
   "outputs": [
    {
     "name": "stdout",
     "output_type": "stream",
     "text": [
      "Data has been cleaned and saved to cleaned_sample-csv-files-sample4.csv.\n"
     ]
    }
   ],
   "source": [
    "import pandas as pd\n",
    "\n",
    "# Read the CSV file\n",
    "df = pd.read_csv('sample-csv-files-sample4.csv')\n",
    "\n",
    "# Drop rows with missing values\n",
    "df_cleaned = df.dropna()\n",
    "\n",
    "# Standardize column names to lowercase\n",
    "df_cleaned.columns = df_cleaned.columns.str.lower()\n",
    "\n",
    "# Remove any leading/trailing spaces in string columns\n",
    "df_cleaned = df_cleaned.apply(lambda x: x.str.strip() if x.dtype == \"object\" else x)\n",
    "\n",
    "# Save the cleaned data\n",
    "df_cleaned.to_csv('cleaned_sample-csv-files-sample4.csv', index=False)\n",
    "\n",
    "print(\"Data has been cleaned and saved to cleaned_sample-csv-files-sample4.csv.\")"
   ]
  },
  {
   "cell_type": "code",
   "execution_count": null,
   "id": "7e12891b-d377-416b-acba-36d4af70c422",
   "metadata": {},
   "outputs": [],
   "source": []
  }
 ],
 "metadata": {
  "kernelspec": {
   "display_name": "Python 3 (ipykernel)",
   "language": "python",
   "name": "python3"
  },
  "language_info": {
   "codemirror_mode": {
    "name": "ipython",
    "version": 3
   },
   "file_extension": ".py",
   "mimetype": "text/x-python",
   "name": "python",
   "nbconvert_exporter": "python",
   "pygments_lexer": "ipython3",
   "version": "3.12.4"
  }
 },
 "nbformat": 4,
 "nbformat_minor": 5
}
